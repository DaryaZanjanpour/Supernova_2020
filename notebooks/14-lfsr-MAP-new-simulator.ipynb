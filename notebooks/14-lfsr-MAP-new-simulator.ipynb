{
 "cells": [
  {
   "cell_type": "markdown",
   "metadata": {},
   "source": [
    "# New simulator tests and MAP\n",
    "\n",
    "This notebook aims testing the new simulator already in the context of a fully assembled IMAGINE pipeline"
   ]
  },
  {
   "cell_type": "code",
   "execution_count": 1,
   "metadata": {},
   "outputs": [],
   "source": [
    "import os, sys\n",
    "sys.path.append('../')\n",
    "\n",
    "import imagine as img\n",
    "import imagine_snrs as img_snrs\n",
    "import astropy.units as u\n",
    "import numpy as np"
   ]
  },
  {
   "cell_type": "code",
   "execution_count": 2,
   "metadata": {},
   "outputs": [],
   "source": [
    "measurements = img.observables.Measurements(img_snrs.datasets.SNR_DA530_I(),\n",
    "                                            img_snrs.datasets.SNR_DA530_Q(),\n",
    "                                            img_snrs.datasets.SNR_DA530_U(),\n",
    "                                            img_snrs.datasets.SNR_DA530_FD())"
   ]
  },
  {
   "cell_type": "markdown",
   "metadata": {},
   "source": []
  },
  {
   "cell_type": "code",
   "execution_count": 3,
   "metadata": {},
   "outputs": [],
   "source": [
    "L = 120*u.pc; N = 200\n",
    "grid = img.fields.UniformGrid(box=[[-L,L],[-L,L],[-L,L]],\n",
    "                              resolution=[N, N, N])"
   ]
  },
  {
   "cell_type": "code",
   "execution_count": 4,
   "metadata": {},
   "outputs": [],
   "source": [
    "from imagine.fields import FieldFactory\n",
    "from imagine.priors import FlatPrior, GaussianPrior\n",
    "\n",
    "L_shift = 70*u.pc\n",
    "\n",
    "te_factory = FieldFactory(grid=grid,\n",
    "                          field_class=img_snrs.fields.SNRThermalElectrons,\n",
    "                          active_parameters=['initial_electron_density'],\n",
    "                          default_parameters={'initial_electron_density': 0.01*u.cm**-3,\n",
    "                                              'shell_V0':0.0153*u.pc/u.yr, \n",
    "                                              'shell_a': 1.3, \n",
    "                                              'shell_b': 10,\n",
    "                                              'elapsed_time': 1300*u.yr,\n",
    "                                              'shell_radius': 35*u.pc},\n",
    "                          priors={'initial_electron_density': FlatPrior(1e-4, 10, u.cm**-3),\n",
    "                                  'shell_V0': FlatPrior(1e-3, 0.1, u.pc/u.yr),\n",
    "                                  'shell_a': FlatPrior(0.5, 2), \n",
    "                                  'shell_b': FlatPrior(1, 50), \n",
    "                                  'elapsed_time': FlatPrior(500, 3000, u.yr),\n",
    "                                  'shell_radius': FlatPrior(10, 60, u.pc)})\n",
    "\n",
    "B_BFM_factory = FieldFactory(grid=grid,\n",
    "                             field_class=img_snrs.fields.SNR_BFM_MagneticField,\n",
    "                             active_parameters=['B', 'period', 'x_shift', 'y_shift'],\n",
    "                             default_parameters={'B': 1*u.microgauss,\n",
    "                                                 'alpha': 0*u.rad,\n",
    "                                                 'beta': 0*u.rad},\n",
    "                             priors={'B': FlatPrior(0, 10, u.microgauss),\n",
    "                                     'x_shift': FlatPrior(-L_shift, L_shift),\n",
    "                                     'y_shift': FlatPrior(-L_shift, L_shift),\n",
    "                                     'period': FlatPrior(10,120, u.pc)})\n",
    "\n",
    "CR_factory = FieldFactory(grid=grid, \n",
    "                          field_class=img_snrs.fields.EquipartitionCosmicRayElectrons,\n",
    "                          active_parameters=(),\n",
    "                          default_parameters={'cr_energy': 1*u.GeV, 'Ecr_Em': 1},\n",
    "                          priors={'Ecr_Em': GaussianPrior(mu=1, sigma=0.1, \n",
    "                                                          xmin=1e-2, xmax=10)})\n",
    "\n",
    "\n",
    "class LoSintegratorSettings(img.fields.DummyField):\n",
    "    NAME = 'LoS_integrator_settings'\n",
    "    FIELD_CHECKLIST = {'alpha': None,\n",
    "                       'beta': None,\n",
    "                       'gamma': None,\n",
    "                       'distance': None}\n",
    "    SIMULATOR_CONTROLLIST = {}\n",
    "\n",
    "dummy_factory = img.fields.FieldFactory(grid=grid,\n",
    "                                        field_class=LoSintegratorSettings, \n",
    "                                        active_parameters=('alpha','beta','gamma'),\n",
    "                                        default_parameters={'distance': 11.3*u.kpc},\n",
    "                                        priors={'alpha': img.priors.FlatPrior(-180, 180, u.deg, wrapped=True), \n",
    "                                                'beta': img.priors.FlatPrior(-90, 90, u.deg), \n",
    "                                                'gamma': img.priors.FlatPrior(-180, 180, u.deg, wrapped=True)})\n"
   ]
  },
  {
   "cell_type": "code",
   "execution_count": 5,
   "metadata": {},
   "outputs": [],
   "source": [
    "simulator = img_snrs.simulators.LoS_integrator(measurements)\n",
    "\n",
    "masks = img.observables.Masks()\n",
    "for k in measurements:\n",
    "    mask = np.isfinite(measurements[k].data)\n",
    "    if np.all(mask):\n",
    "        continue\n",
    "    else:\n",
    "        masks.append(name=k, data=mask)\n",
    "\n",
    "likelihood = img.likelihoods.SimpleLikelihood(measurements, mask_dict=masks)\n",
    "\n"
   ]
  },
  {
   "cell_type": "code",
   "execution_count": 6,
   "metadata": {},
   "outputs": [],
   "source": [
    "Pipeline = img.pipelines.UltranestPipeline\n",
    "\n",
    "pipeline = Pipeline(run_directory=os.path.join(img.rc['temp_dir'],'uniform_field'),\n",
    "                            simulator=simulator, likelihood=likelihood,\n",
    "                            factory_list=[dummy_factory, B_BFM_factory, CR_factory, te_factory])\n"
   ]
  },
  {
   "cell_type": "code",
   "execution_count": 7,
   "metadata": {},
   "outputs": [
    {
     "name": "stdout",
     "output_type": "stream",
     "text": [
      "Sampling centres of the parameter ranges.\n",
      "\tEvaluating point: [0.0, 0.0, 0.0, 5.0, 65.0, 0.0, 0.0, 5.00005]\n"
     ]
    },
    {
     "name": "stderr",
     "output_type": "stream",
     "text": [
      "../shell/field_transformer.py:79: UserWarning: Persisting input arguments took 0.61s to run.\n",
      "If this happens often in your code, it can cause performance problems \n",
      "(results will be correct in all cases). \n",
      "The reason for this is probably some large input arguments for a wrapped\n",
      " function (e.g. large strings).\n",
      "THIS IS A JOBLIB ISSUE. If you can, kindly provide the joblib's team with an\n",
      " example so that they can fix the problem.\n",
      "  self.dz_dx0, self.dz_dy0, self.dz_dz0)\n",
      "/home/lrodrigues/miniconda3/envs/imagine/lib/python3.7/site-packages/astropy/units/quantity.py:477: RuntimeWarning: invalid value encountered in true_divide\n",
      "  result = super().__array_ufunc__(function, method, *arrays, **kwargs)\n"
     ]
    },
    {
     "name": "stdout",
     "output_type": "stream",
     "text": [
      "\tLog-likelihood -1.66562921488189e+37\n",
      "\tTotal execution time:  29.12426319345832 s\n",
      "\n",
      "Randomly sampling from prior.\n",
      "\tEvaluating point: [179.65458552 -47.50398415 -37.23093817   3.87910741  83.67206405\n",
      "  60.97546991  48.48352834   3.13280384]\n",
      "\tLog-likelihood -9.96326954130792e+36\n",
      "\tTotal execution time:  16.928582469001412 s\n",
      "\n",
      "Randomly sampling from prior.\n",
      "\tEvaluating point: [  8.83733745 -10.17847912 -97.35220306   5.34413909 110.5358227\n",
      "  -5.99132688  -9.70220059   9.39128398]\n",
      "\tLog-likelihood -2.4096096814669806e+37\n",
      "\tTotal execution time:  15.976069601252675 s\n",
      "\n",
      "Average execution time: 20.676305087904137 s\n"
     ]
    },
    {
     "data": {
      "text/latex": [
       "$20.676305 \\; \\mathrm{s}$"
      ],
      "text/plain": [
       "<Quantity 20.67630509 s>"
      ]
     },
     "execution_count": 7,
     "metadata": {},
     "output_type": "execute_result"
    }
   ],
   "source": [
    "pipeline.test()"
   ]
  },
  {
   "cell_type": "code",
   "execution_count": null,
   "metadata": {},
   "outputs": [
    {
     "name": "stderr",
     "output_type": "stream",
     "text": [
      "/home/lrodrigues/miniconda3/envs/imagine/lib/python3.7/site-packages/astropy/units/quantity.py:477: RuntimeWarning: invalid value encountered in true_divide\n",
      "  result = super().__array_ufunc__(function, method, *arrays, **kwargs)\n"
     ]
    }
   ],
   "source": [
    "pipeline.get_MAP()"
   ]
  },
  {
   "cell_type": "code",
   "execution_count": null,
   "metadata": {},
   "outputs": [],
   "source": []
  }
 ],
 "metadata": {
  "kernelspec": {
   "display_name": "Python (imagine)",
   "language": "python",
   "name": "imagine"
  },
  "language_info": {
   "codemirror_mode": {
    "name": "ipython",
    "version": 3
   },
   "file_extension": ".py",
   "mimetype": "text/x-python",
   "name": "python",
   "nbconvert_exporter": "python",
   "pygments_lexer": "ipython3",
   "version": "3.7.8"
  }
 },
 "nbformat": 4,
 "nbformat_minor": 4
}
